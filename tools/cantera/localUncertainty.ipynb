{
 "cells": [
  {
   "cell_type": "markdown",
   "metadata": {},
   "source": [
    "# Local uncertainty analysis"
   ]
  },
  {
   "cell_type": "code",
   "execution_count": 1,
   "metadata": {
    "collapsed": false,
    "scrolled": true
   },
   "outputs": [],
   "source": [
    "from rmgpy.chemkin import *\n",
    "from rmgpy.tools.canteraModel import *\n",
    "from rmgpy.quantity import *\n",
    "from IPython.display import display, Image"
   ]
  },
  {
   "cell_type": "code",
   "execution_count": 2,
   "metadata": {
    "collapsed": true
   },
   "outputs": [],
   "source": [
    "# Helper functions for parsing the details out of groups and rate rules from thermo and kinetics\n",
    "\n"
   ]
  },
  {
   "cell_type": "code",
   "execution_count": 3,
   "metadata": {
    "collapsed": true
   },
   "outputs": [],
   "source": [
    "# Load chemkin file\n",
    "speciesList, reactionList = loadChemkinFile('mech/chem_annotated.inp','mech/species_dictionary.txt')"
   ]
  },
  {
   "cell_type": "code",
   "execution_count": 4,
   "metadata": {
    "collapsed": false
   },
   "outputs": [
    {
     "name": "stdout",
     "output_type": "stream",
     "text": [
      "\n",
      "Thermo library: primaryThermoLibrary\n",
      "\n",
      "\n",
      "Thermo library: primaryThermoLibrary\n",
      "\n",
      "\n",
      "Thermo library: primaryThermoLibrary\n",
      "\n",
      "\n",
      "Thermo library: primaryThermoLibrary\n",
      "\n",
      "\n",
      "Thermo group additivity estimation: group(Cs-CsHHH) + gauche(Cs(CsRRR)) + other(R) + group(Cs-CsHHH) + gauche(Cs(CsRRR)) + other(R)\n",
      "\n",
      "\n",
      "Thermo library: primaryThermoLibrary + radical(CH3)\n",
      "\n",
      "\n",
      "Thermo group additivity estimation: group(Cs-CsHHH) + gauche(Cs(CsRRR)) + other(R) + group(Cs-CsHHH) + gauche(Cs(CsRRR)) + other(R) + radical(CCJ)\n",
      "\n",
      "\n",
      "Thermo library: primaryThermoLibrary\n",
      "\n",
      "\n",
      "Thermo library: primaryThermoLibrary\n",
      "\n",
      "\n",
      "Thermo group additivity estimation: group(Cds-CdsHH) + gauche(CsOsCdSs) + other(R) + group(Cds-CdsHH) + gauche(CsOsCdSs) + other(R)\n",
      "\n",
      "\n",
      "Thermo library: primaryThermoLibrary\n",
      "\n",
      "\n",
      "Thermo group additivity estimation: group(Cds-CdsHH) + gauche(CsOsCdSs) + other(R) + group(Cds-CdsHH) + gauche(CsOsCdSs) + other(R) + radical(Cds_P)\n",
      "\n",
      "\n",
      "Thermo group additivity estimation: group(Cs-CsCsHH) + gauche(Cs(CsCsRR)) + other(R) + group(Cs-CsHHH) + gauche(Cs(Cs(CsRR)RRR)) + other(R) + group\n",
      "(Cs-CsHHH) + gauche(Cs(Cs(CsRR)RRR)) + other(R) + radical(RCCJ)\n",
      "\n",
      "\n",
      "Thermo group additivity estimation: group(Ct-CtH) + other(R) + group(Ct-CtH) + other(R)\n",
      "\n",
      "\n",
      "Thermo group additivity estimation: group(Cs-(Cds-Cds)CsHH) + gauche(Cs(CsRRR)) + other(R) + group(Cs-CsHHH) + gauche(Cs(CsRRR)) + other(R) + group\n",
      "(Cds-CdsCsH) + gauche(CsOsCdSs) + other(R) + group(Cds-CdsHH) + gauche(CsOsCdSs) + other(R) + radical(RCCJ)\n",
      "\n",
      "\n",
      "Thermo group additivity estimation: group(Cds-Cds(Cds-Cds)H) + gauche(CsOsCdSs) + other(R) + group(Cds-Cds(Cds-Cds)H) + gauche(CsOsCdSs) + other(R) +\n",
      "group(Cds-CdsHH) + gauche(CsOsCdSs) + other(R) + group(Cds-CdsHH) + gauche(CsOsCdSs) + other(R)\n",
      "\n",
      "\n",
      "Thermo group additivity estimation: group(Cs-(Cds-Cds)HHH) + gauche(Cs(RRRR)) + other(R) + group(Cds-CdsCsH) + gauche(CsOsCdSs) + other(R) + group\n",
      "(Cds-CdsHH) + gauche(CsOsCdSs) + other(R) + radical(Cds_P)\n",
      "\n",
      "\n",
      "Thermo group additivity estimation: group(Cs-CsCsCsH) + other(R) + group(Cs-CsCsHH) + other(R) + group(Cs-CsCsHH) + other(R) + group(Cs-CsHHH) +\n",
      "other(R) + ring(Cyclopropane) + radical(Isobutyl)\n",
      "\n",
      "\n",
      "Thermo group additivity estimation: group(Cs-(Cds-Cds)HHH) + gauche(Cs(RRRR)) + other(R) + group(Cs-(Cds-Cds)HHH) + gauche(Cs(RRRR)) + other(R) +\n",
      "group(Cds-CdsCsH) + gauche(CsOsCdSs) + other(R) + group(Cds-CdsCsH) + gauche(CsOsCdSs) + other(R) + radical(Allyl_P)\n",
      "\n",
      "Exact match found for rate rule (C_methyl;C_methyl)\n",
      "Estimated using template (C/H3/Cs;C_methyl) for rate rule (C/H3/Cs\\H3;C_methyl)\n",
      "Multiplied by reaction path degeneracy 6\n",
      "Exact match found for rate rule (C_rad/H2/Cs;H_rad)\n",
      "Exact match found for rate rule (C_methyl;H_rad)\n",
      "Exact match found for rate rule (Cds-HH_Cds-HH;HJ)\n",
      "Multiplied by reaction path degeneracy 2\n",
      "Exact match found for rate rule (C_methyl;Cmethyl_Csrad)\n",
      "Multiplied by reaction path degeneracy 3\n",
      "Exact match found for rate rule (C_rad/H2/Cs;Cmethyl_Csrad)\n",
      "Multiplied by reaction path degeneracy 3\n",
      "Estimated using template (C/H3/Cs;H_rad) for rate rule (C/H3/Cs\\H3;H_rad)\n",
      "Multiplied by reaction path degeneracy 6\n",
      "Exact match found for rate rule (H_rad;Cmethyl_Csrad)\n",
      "Multiplied by reaction path degeneracy 6\n",
      "Exact match found for rate rule (C_methane;H_rad)\n",
      "Multiplied by reaction path degeneracy 4\n",
      "Exact match found for rate rule (H_rad;H_rad)\n",
      "Exact match found for rate rule (Cds-HH_Cds-HH;CsJ-HHH)\n",
      "Multiplied by reaction path degeneracy 2\n",
      "Exact match found for rate rule (Cd_pri_rad;H_rad)\n",
      "Estimated using template (C_methane;Cd_pri_rad) for rate rule (C_methane;Cd_Cd\\H2_pri_rad)\n",
      "Multiplied by reaction path degeneracy 4\n",
      "Estimated using template (C/H3/Cs;Cd_Cd\\H2_pri_rad) for rate rule (C/H3/Cs\\H3;Cd_Cd\\H2_pri_rad)\n",
      "Multiplied by reaction path degeneracy 6\n",
      "Estimated using template (H2;Cd_pri_rad) for rate rule (H2;Cd_Cd\\H2_pri_rad)\n",
      "Multiplied by reaction path degeneracy 2\n",
      "Exact match found for rate rule (Cd_pri_rad;Cmethyl_Csrad)\n",
      "Multiplied by reaction path degeneracy 3\n",
      "Exact match found for rate rule (Ct-H_Ct-H;HJ)\n",
      "Multiplied by reaction path degeneracy 2\n",
      "Estimated using template (C_methyl;CH_d_Rrad) for rate rule (C_methyl;Cd_Cdrad)\n",
      "Multiplied by reaction path degeneracy 2\n",
      "Estimated using template (Cs_rad;XH_d_Rrad) for rate rule (C_rad/H2/Cs;Cd_Cdrad)\n",
      "Multiplied by reaction path degeneracy 2\n",
      "Estimated using template (H_rad;CH_d_Rrad) for rate rule (H_rad;Cd_Cdrad)\n",
      "Multiplied by reaction path degeneracy 4\n",
      "Estimated using template (Y_rad;XH_Rrad) for rate rule (Cd_pri_rad;Cd_Cdrad)\n",
      "Multiplied by reaction path degeneracy 2\n",
      "Exact match found for rate rule (Cds-HH_Cds-HH;CdsJ-H)\n",
      "Multiplied by reaction path degeneracy 2\n",
      "Exact match found for rate rule (R4_S_D;doublebond_intra_2H_pri;radadd_intra_cs2H)\n",
      "Exact match found for rate rule (Ct-H_Ct-H;CsJ-HHH)\n",
      "Multiplied by reaction path degeneracy 2\n",
      "Exact match found for rate rule (Cd_pri_rad;Cd_pri_rad)\n",
      "Exact match found for rate rule (Cds-CdH_Cds-HH;HJ)\n",
      "Multiplied by reaction path degeneracy 2\n",
      "Estimated using template (C_methyl;Cpri_Rrad) for rate rule (C_methyl;C/H2/De_Csrad)\n",
      "Multiplied by reaction path degeneracy 2\n",
      "Estimated using template (C_pri_rad;Cpri_Rrad) for rate rule (C_rad/H2/Cs;C/H2/De_Csrad)\n",
      "Multiplied by reaction path degeneracy 2\n",
      "Estimated using template (H_rad;Cpri_Rrad) for rate rule (H_rad;C/H2/De_Csrad)\n",
      "Multiplied by reaction path degeneracy 4\n",
      "Estimated using template (Cd_pri_rad;Cpri_Rrad) for rate rule (Cd_pri_rad;C/H2/De_Csrad)\n",
      "Multiplied by reaction path degeneracy 2\n",
      "Exact match found for rate rule (R2H_S;C_rad_out_H/OneDe;Cs_H_out_2H)\n",
      "Multiplied by reaction path degeneracy 3\n",
      "Estimated using template (C_rad/H2/Cs;Cmethyl_Csrad) for rate rule (C_rad/H2/Cs;Cmethyl_Csrad/H/Cd)\n",
      "Multiplied by reaction path degeneracy 3\n",
      "Estimated using template (C_methyl;Cmethyl_Csrad) for rate rule (C_methyl;Cmethyl_Csrad/H/Cd)\n",
      "Multiplied by reaction path degeneracy 3\n",
      "Exact match found for rate rule (Cds-HH_Cds-CdH;HJ)\n",
      "Multiplied by reaction path degeneracy 2\n",
      "Estimated using template (Cd_pri_rad;Cmethyl_Csrad) for rate rule (Cd_pri_rad;Cmethyl_Csrad/H/Cd)\n",
      "Multiplied by reaction path degeneracy 3\n",
      "Estimated using template (H_rad;Cmethyl_Csrad) for rate rule (H_rad;Cmethyl_Csrad/H/Cd)\n",
      "Multiplied by reaction path degeneracy 6\n"
     ]
    }
   ],
   "source": [
    "for species in speciesList:\n",
    "    print species.thermo.comment\n",
    "for reaction in reactionList:\n",
    "    print reaction.kinetics.comment"
   ]
  },
  {
   "cell_type": "code",
   "execution_count": 5,
   "metadata": {
    "collapsed": true
   },
   "outputs": [],
   "source": [
    "# Set conditions\n",
    "ethane = filter(lambda x: x.molecule[0].toSMILES() == 'CC', speciesList)[0]\n",
    "argon = filter(lambda x: x.molecule[0].toSMILES() == '[Ar]', speciesList)[0]\n",
    "\n",
    "molFracList=[{ethane: 1}]\n",
    "Tlist = Quantity([1300,1500,2000],'K')\n",
    "Plist = Quantity([1],'atm')\n",
    "reactionTime = Quantity(0.5, 'ms')"
   ]
  },
  {
   "cell_type": "code",
   "execution_count": 6,
   "metadata": {
    "collapsed": false
   },
   "outputs": [
    {
     "name": "stdout",
     "output_type": "stream",
     "text": [
      "Converting mech/chem_annotated.inp to /home/connie/Research/Code/rmg_wiki/tools/cantera/chem_annotated.cti...\n",
      "Wrote CTI mechanism file to '/home/connie/Research/Code/rmg_wiki/tools/cantera/chem_annotated.cti'.\n",
      "Mechanism contains 19 species and 37 reactions.\n",
      "Saving into Cantera Model...\n"
     ]
    }
   ],
   "source": [
    "# Create cantera object, simulate, and plot\n",
    "job = Cantera(speciesList=speciesList, reactionList=reactionList)\n",
    "job.loadChemkinModel('mech/chem_annotated.inp')\n",
    "job.generateConditions('IdealGasReactor', reactionTime, molFracList, Tlist, Plist)"
   ]
  },
  {
   "cell_type": "code",
   "execution_count": 23,
   "metadata": {
    "collapsed": false
   },
   "outputs": [
    {
     "name": "stdout",
     "output_type": "stream",
     "text": [
      "Arrhenius(A=6.18, b=1, E=0)\n",
      "0.0\n",
      "6.18\n",
      "1.0\n",
      "CH3(2) + ethane(1) <=> C(6) + C2H5(3)\n",
      "<ElementaryReaction: CH3(2) + ethane(1) <=> C(6) + C2H5(3)>\n",
      "Arrhenius(A=6.18, b=1, E=0)\n",
      "Arrhenius(A=6.18, b=1, E=0)\n",
      "<cantera._cantera.NasaPoly2 object at 0x7f7e2591ced0>\n",
      "-3117.9232875\n",
      "20786.15525\n",
      "154835.26991\n",
      "<type 'cantera._cantera.NasaPoly2'>\n",
      "[NASAPolynomial(coeffs=[2.5,0,0,0,0,-745.375,4.37967], Tmin=(200,'K'), Tmax=(1000,'K')), NASAPolynomial(coeffs=[2.5,0,0,0,0,-745.375,4.37967], Tmin=(1000,'K'), Tmax=(6000,'K'))]\n",
      "[NASAPolynomial(coeffs=[2.5,0,0,0,0,-745.375,0.928724], Tmin=(200,'K'), Tmax=(1000,'K')), NASAPolynomial(coeffs=[2.5,0,0,0,0,-745.375,0.928724], Tmin=(1000,'K'), Tmax=(6000,'K'))]\n",
      "[NASAPolynomial(coeffs=[2.5,0,0,0,0,-745.375,3.35532], Tmin=(200,'K'), Tmax=(1000,'K')), NASAPolynomial(coeffs=[2.5,0,0,0,0,-745.375,3.35532], Tmin=(1000,'K'), Tmax=(6000,'K'))]\n",
      "[NASAPolynomial(coeffs=[3.53101,-0.000123661,-5.02999e-07,2.43531e-09,-1.40881e-12,-1046.98,2.96747], Tmin=(200,'K'), Tmax=(1000,'K')), NASAPolynomial(coeffs=[2.95258,0.0013969,-4.92632e-07,7.8601e-11,-4.60755e-15,-923.949,5.87189], Tmin=(1000,'K'), Tmax=(6000,'K'))]\n",
      "[NASAPolynomial(coeffs=[3.78033,-0.00324263,5.52381e-05,-6.38581e-08,2.28637e-11,-11620.3,5.21034], Tmin=(100,'K'), Tmax=(954.51,'K')), NASAPolynomial(coeffs=[4.58983,0.0141508,-4.75962e-06,8.60294e-10,-6.21717e-14,-12721.8,-3.61739], Tmin=(954.51,'K'), Tmax=(5000,'K'))]\n",
      "[NASAPolynomial(coeffs=[3.91547,0.00184154,3.48744e-06,-3.3275e-09,8.49964e-13,16285.6,0.351739], Tmin=(100,'K'), Tmax=(1337.62,'K')), NASAPolynomial(coeffs=[3.54145,0.00476788,-1.82149e-06,3.28878e-10,-2.22547e-14,16224,1.6604], Tmin=(1337.62,'K'), Tmax=(5000,'K'))]\n",
      "[NASAPolynomial(coeffs=[3.8219,-0.00343436,5.09286e-05,-6.20252e-08,2.37092e-11,13066,7.61622], Tmin=(100,'K'), Tmax=(900.3,'K')), NASAPolynomial(coeffs=[5.15605,0.00943151,-1.81963e-06,2.21236e-10,-1.43515e-14,12064.1,-2.9101], Tmin=(900.3,'K'), Tmax=(5000,'K'))]\n",
      "[NASAPolynomial(coeffs=[2.5,-1.91243e-12,2.45329e-15,-1.02377e-18,1.31369e-22,25474.2,-0.444973], Tmin=(100,'K'), Tmax=(4563.27,'K')), NASAPolynomial(coeffs=[2.50167,-1.43051e-06,4.6025e-10,-6.57826e-14,3.52412e-18,25472.7,-0.455578], Tmin=(4563.27,'K'), Tmax=(5000,'K'))]\n",
      "[NASAPolynomial(coeffs=[4.20541,-0.00535556,2.51123e-05,-2.13762e-08,5.97522e-12,-10161.9,-0.921275], Tmin=(100,'K'), Tmax=(1084.12,'K')), NASAPolynomial(coeffs=[0.908272,0.0114541,-4.57173e-06,8.2919e-10,-5.66314e-14,-9719.98,13.9931], Tmin=(1084.12,'K'), Tmax=(5000,'K'))]\n",
      "[NASAPolynomial(coeffs=[3.97974,-0.00757559,5.52973e-05,-6.36221e-08,2.31767e-11,5077.46,4.04623], Tmin=(100,'K'), Tmax=(940.45,'K')), NASAPolynomial(coeffs=[5.203,0.00782442,-2.12683e-06,3.7969e-10,-2.9467e-14,3936.28,-6.62412], Tmin=(940.45,'K'), Tmax=(5000,'K'))]\n",
      "[NASAPolynomial(coeffs=[3.43536,0.00021271,-2.78625e-07,3.40267e-10,-7.76031e-14,-1031.36,-3.90842], Tmin=(100,'K'), Tmax=(1959.08,'K')), NASAPolynomial(coeffs=[2.78816,0.000587644,1.59009e-07,-5.52736e-11,4.34309e-15,-596.143,0.112747], Tmin=(1959.08,'K'), Tmax=(5000,'K'))]\n",
      "[NASAPolynomial(coeffs=[3.90668,-0.00406204,3.86766e-05,-4.62957e-08,1.72892e-11,34797.2,6.098], Tmin=(100,'K'), Tmax=(931.97,'K')), NASAPolynomial(coeffs=[5.44806,0.0049834,-1.08811e-06,1.79815e-10,-1.45078e-14,33829.7,-4.87859], Tmin=(931.97,'K'), Tmax=(5000,'K'))]\n",
      "[NASAPolynomial(coeffs=[3.09192,0.0132171,2.75852e-05,-3.90855e-08,1.43316e-11,10228.4,12.4057], Tmin=(100,'K'), Tmax=(995.41,'K')), NASAPolynomial(coeffs=[5.69426,0.0196034,-7.42054e-06,1.35884e-09,-9.56224e-14,8875.87,-4.32864], Tmin=(995.41,'K'), Tmax=(5000,'K'))]\n",
      "[NASAPolynomial(coeffs=[3.03575,0.00771231,2.53525e-06,-1.08138e-08,5.50779e-12,25852.6,4.54459], Tmin=(100,'K'), Tmax=(888.62,'K')), NASAPolynomial(coeffs=[5.76203,0.00237162,-1.496e-07,-2.19113e-11,2.21744e-15,25094.5,-9.82599], Tmin=(888.62,'K'), Tmax=(5000,'K'))]\n",
      "[NASAPolynomial(coeffs=[2.68059,0.0210828,2.02115e-05,-3.64233e-08,1.4144e-11,22752.8,16.6009], Tmin=(100,'K'), Tmax=(1000.95,'K')), NASAPolynomial(coeffs=[7.5948,0.0206425,-7.89783e-06,1.45964e-09,-1.03413e-13,20807.3,-11.916], Tmin=(1000.95,'K'), Tmax=(5000,'K'))]\n",
      "[NASAPolynomial(coeffs=[2.68207,0.0169321,3.73656e-05,-6.2649e-08,2.59151e-11,11354.6,12.0324], Tmin=(100,'K'), Tmax=(940.94,'K')), NASAPolynomial(coeffs=[11.0823,0.0117736,-3.1142e-06,5.37758e-10,-4.10634e-14,8421.3,-35.1693], Tmin=(940.94,'K'), Tmax=(5000,'K'))]\n",
      "[NASAPolynomial(coeffs=[3.23407,0.011821,1.703e-05,-2.64359e-08,9.91189e-12,30487.3,10.3183], Tmin=(100,'K'), Tmax=(997.88,'K')), NASAPolynomial(coeffs=[5.66476,0.0144325,-5.46733e-06,1.00157e-09,-7.0485e-14,29387.1,-4.48542], Tmin=(997.88,'K'), Tmax=(5000,'K'))]\n",
      "[NASAPolynomial(coeffs=[3.04742,0.00545498,7.53336e-05,-1.0223e-07,4.01845e-11,25826.9,14.0789], Tmin=(100,'K'), Tmax=(926.06,'K')), NASAPolynomial(coeffs=[10.2345,0.0141135,-2.99943e-06,4.56664e-10,-3.49836e-14,22793.4,-29.2339], Tmin=(926.06,'K'), Tmax=(5000,'K'))]\n",
      "[NASAPolynomial(coeffs=[2.64213,0.0215954,2.09684e-05,-3.7921e-08,1.47845e-11,14680.9,13.4335], Tmin=(100,'K'), Tmax=(998.56,'K')), NASAPolynomial(coeffs=[7.82806,0.02084,-7.9675e-06,1.47337e-09,-1.04525e-13,12647.2,-16.5755], Tmin=(998.56,'K'), Tmax=(5000,'K'))]\n"
     ]
    }
   ],
   "source": [
    "canteraReactions = job.model.reactions()\n",
    "# for reaction in canteraReactions:\n",
    "# #     print reaction.reactants\n",
    "# #     print reaction.products\n",
    "#      print reaction.rate\n",
    "#      #reaction.rate.temperatureExponent()\n",
    "from cantera import Arrhenius, NasaPoly2\n",
    "\n",
    "        \n",
    "a = Arrhenius(6.18,b=1.0,E=0)\n",
    "print a\n",
    "print a.activation_energy\n",
    "print a.pre_exponential_factor\n",
    "print a.temperature_exponent\n",
    "\n",
    "\n",
    "print canteraReactions[1]\n",
    "print repr(canteraReactions[1])\n",
    "print canteraReactions[1].rate\n",
    "canteraReactions[1].rate = a\n",
    "print canteraReactions[1].rate\n",
    "    \n",
    "canteraSpecies = job.model.species()\n",
    "species = canteraSpecies[0]\n",
    "print species.thermo\n",
    "print species.thermo.h(298)\n",
    "print species.thermo.cp(298)\n",
    "print species.thermo.s(298)\n",
    "print type(species.thermo)\n",
    "\n",
    "# Create a cantera thermo NasaPoly2 object\n",
    "for species in speciesList:\n",
    "     #print species.thermo\n",
    "     print species.thermo.polynomials\n",
    "     \n",
    "#nasa = NasaPoly2(300,30000,[])\n",
    "\n",
    "\n",
    "\n",
    "#canteraSpecies[5].thermo.coeffs  # cannot print coefficients unfortunately"
   ]
  },
  {
   "cell_type": "code",
   "execution_count": null,
   "metadata": {
    "collapsed": true
   },
   "outputs": [],
   "source": []
  }
 ],
 "metadata": {
  "kernelspec": {
   "display_name": "Python 2",
   "language": "python",
   "name": "python2"
  },
  "language_info": {
   "codemirror_mode": {
    "name": "ipython",
    "version": 2
   },
   "file_extension": ".py",
   "mimetype": "text/x-python",
   "name": "python",
   "nbconvert_exporter": "python",
   "pygments_lexer": "ipython2",
   "version": "2.7.11"
  }
 },
 "nbformat": 4,
 "nbformat_minor": 0
}
