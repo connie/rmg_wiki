{
 "cells": [
  {
   "cell_type": "markdown",
   "metadata": {},
   "source": [
    "## Problem description"
   ]
  },
  {
   "cell_type": "code",
   "execution_count": 1,
   "metadata": {
    "collapsed": false
   },
   "outputs": [],
   "source": [
    "from rmgpy.species import Species\n",
    "from rmgpy.data.rmg import RMGDatabase\n",
    "from rmgpy import settings\n",
    "from IPython.display import display"
   ]
  },
  {
   "cell_type": "markdown",
   "metadata": {},
   "source": [
    "## A variety of helper functions from RMG-database's fitGAVSFromThermoLibrary.ipynb"
   ]
  },
  {
   "cell_type": "code",
   "execution_count": 2,
   "metadata": {
    "collapsed": false
   },
   "outputs": [],
   "source": [
    "def addThermoData(thermoData1, thermoData2):\n",
    "    \"\"\"\n",
    "    Add the thermodynamic data `thermoData2` to the data `thermoData1`,\n",
    "    and return `thermoData1`.\n",
    "    \"\"\"\n",
    "    if len(thermoData1.Tdata.value_si) != len(thermoData2.Tdata.value_si) or any([T1 != T2 for T1, T2 in zip(thermoData1.Tdata.value_si, thermoData2.Tdata.value_si)]):\n",
    "        raise Exception('Cannot add these ThermoData objects due to their having different temperature points.')\n",
    "\n",
    "    for i in range(thermoData1.Tdata.value_si.shape[0]):\n",
    "        thermoData1.Cpdata.value_si[i] += thermoData2.Cpdata.value_si[i]\n",
    "    thermoData1.H298.value_si += thermoData2.H298.value_si\n",
    "    thermoData1.S298.value_si += thermoData2.S298.value_si\n",
    "\n",
    "    #if thermoData1.comment:\n",
    "    #    thermoData1.comment += ' + {0}'.format(thermoData2.comment)\n",
    "    #else:\n",
    "    #    thermoData1.comment = 'Thermo group additivity estimation: ' + thermoData2.comment\n",
    "\n",
    "    return thermoData1\n",
    "\n",
    "def removeThermoData(thermoData1, thermoData2):\n",
    "    \"\"\"\n",
    "    Remove the thermodynamic data `thermoData2` from the data `thermoData1`,\n",
    "    and return `thermoData1`.\n",
    "    \"\"\"\n",
    "    if len(thermoData1.Tdata.value_si) != len(thermoData2.Tdata.value_si) or any([T1 != T2 for T1, T2 in zip(thermoData1.Tdata.value_si, thermoData2.Tdata.value_si)]):\n",
    "        raise Exception('Cannot add these ThermoData objects due to their having different temperature points.')\n",
    "\n",
    "    for i in range(thermoData1.Tdata.value_si.shape[0]):\n",
    "        thermoData1.Cpdata.value_si[i] -= thermoData2.Cpdata.value_si[i]\n",
    "    thermoData1.H298.value_si -= thermoData2.H298.value_si\n",
    "    thermoData1.S298.value_si -= thermoData2.S298.value_si\n",
    "\n",
    "    #if thermoData1.comment:\n",
    "    #    thermoData1.comment += ' + {0}'.format(thermoData2.comment)\n",
    "    #else:\n",
    "    #    thermoData1.comment = 'Thermo group additivity estimation: ' + thermoData2.comment\n",
    "\n",
    "    return thermoData1\n",
    "\n",
    "def averageThermoData(thermoDataset=[]):\n",
    "    \"\"\"\n",
    "    Average a list of thermoData values together.\n",
    "    Sets uncertainty values to be the approximately the 95% confidence interval, equivalent to\n",
    "    2 standard deviations calculated using the sample standard variance:\n",
    "    \n",
    "    Uncertainty = 2s\n",
    "    s = sqrt( sum(abs(x - x.mean())^2) / N - 1) where N is the number of values averaged\n",
    "    \n",
    "    Note that uncertainties are only computed when number of values is greater than 1.\n",
    "    \"\"\"\n",
    "    \n",
    "    numValues = len(thermoDataset)\n",
    "        \n",
    "    if numValues == 0:\n",
    "        raise Exception('No thermo data values were inputted to be averaged.')\n",
    "    else:\n",
    "        print 'Averaging thermo data over {0} value(s).'.format(numValues)\n",
    "        \n",
    "        if numValues == 1:\n",
    "            return copy.deepcopy(thermoDataset[0])\n",
    "        \n",
    "        else:\n",
    "            averagedThermoData = copy.deepcopy(thermoDataset[0])\n",
    "            for thermoData in thermoDataset[1:]:\n",
    "                averagedThermoData = addThermoData(averagedThermoData, thermoData)\n",
    "\n",
    "\n",
    "            for i in range(averagedThermoData.Tdata.value_si.shape[0]):\n",
    "                averagedThermoData.Cpdata.value_si[i] /= numValues\n",
    "                #print averagedThermoData.Cpdata.uncertainty\n",
    "                cpData = [thermoData.Cpdata.value_si[i] for thermoData in thermoDataset]\n",
    "                averagedThermoData.Cpdata.uncertainty[i] = 2*numpy.std(cpData, ddof=1)\n",
    "\n",
    "            HData = [thermoData.H298.value_si for thermoData in thermoDataset]\n",
    "            averagedThermoData.H298.value_si /= numValues\n",
    "            averagedThermoData.H298.uncertainty_si = 2*numpy.std(HData, ddof=1)\n",
    "\n",
    "            SData = [thermoData.S298.value_si for thermoData in thermoDataset]\n",
    "            averagedThermoData.S298.value_si /= numValues\n",
    "            averagedThermoData.S298.uncertainty_si = 2*numpy.std(SData, ddof=1)\n",
    "            return averagedThermoData\n",
    "        \n",
    "def extractPolycyclicGroups(molecule):\n",
    "    \"\"\"\n",
    "    Extract polycyclic functional groups from a real molecule\n",
    "    \"\"\"\n",
    "    struct = molecule.copy(deep=True)\n",
    "    # Saturate the structure if it is a radical\n",
    "    if struct.isRadical():\n",
    "        struct.saturate()\n",
    "    struct.deleteHydrogens()\n",
    "    \n",
    "    polyRings = struct.getPolycyclicRings()\n",
    "    groups = [convertCycleToGroup(ring) for ring in polyRings]\n",
    "    \n",
    "    return groups\n",
    "                \n",
    "def convertCycleToGroup(cycle):\n",
    "    \"\"\"\n",
    "    This function converts a list of atoms in a cycle to a functional Group object\n",
    "    \"\"\"\n",
    "    from rmgpy.molecule.group import GroupAtom, GroupBond, Group\n",
    "    \n",
    "    # Create GroupAtom object for each atom in the cycle, label the first one in the cycle with a *\n",
    "    groupAtoms = {}\n",
    "    bonds = []\n",
    "    for atom in cycle:\n",
    "        groupAtoms[atom] = GroupAtom(atomType=[atom.atomType],\n",
    "                                     radicalElectrons=[0],\n",
    "                                     label='*' if cycle.index(atom)==0 else '')\n",
    "                \n",
    "    group = Group(atoms=groupAtoms.values())            \n",
    "    \n",
    "    # Create GroupBond for each bond between atoms in the cycle, but not outside of the cycle\n",
    "    for atom in cycle:\n",
    "        for bondedAtom, bond in atom.edges.iteritems():\n",
    "            if bondedAtom in cycle:\n",
    "                # create a group bond with the same bond order as in the original molecule,\n",
    "                # if it hasn't already been created\n",
    "                if not group.hasBond(groupAtoms[atom],groupAtoms[bondedAtom]):\n",
    "                    group.addBond(GroupBond(groupAtoms[atom],groupAtoms[bondedAtom],order=[bond.order]))\n",
    "            else:\n",
    "                pass\n",
    "        \n",
    "    group.update()\n",
    "    \n",
    "    return group\n",
    "\n",
    "def returnPolycyclicGroupStrings(thermoComment):\n",
    "    \"\"\"\n",
    "    Takes a string of comments from group additivity estimation, and extracts the polycyclic group strings out of them\n",
    "    \"\"\"\n",
    "    tokens = thermoComment.split()\n",
    "    polycyclicGroups = []\n",
    "    for token in tokens:\n",
    "        if 'polycyclic' in token:\n",
    "            splitTokens = re.split(\"\\(|\\)\",token)\n",
    "            assert len(splitTokens) == 3\n",
    "            groupLabel = splitTokens[1]\n",
    "            polycyclicGroups.append(groupLabel)\n",
    "    return polycyclicGroups\n",
    "\n",
    "def displayThermo(thermoData):\n",
    "    print 'H298 = {0} kcal/mol'.format(thermoData.H298.value_si/4184)\n",
    "    print 'S298 = {0} cal/mol*K'.format(thermoData.S298.value_si/4.184)\n",
    "def compareThermoData(thermoData1, thermoData2):\n",
    "    delH = thermoData1.H298.value_si - thermoData2.H298.value_si\n",
    "    print 'Difference in H298 = {0} kcal/mol'.format(delH/4184)\n",
    "    delS = thermoData1.S298.value_si - thermoData2.S298.value_si\n",
    "    print 'Difference S298 = {0} cal/mol*K'.format(delS/4.184)\n",
    "    #Tdata = [300,500,1000,2000]\n",
    "    #for T in Tdata:\n",
    "    #    delCp = thermoData1.getHeatCapacity(T) - thermoData2.getHeatCapacity(T)\n",
    "    #    print 'Difference in Cp at {0} = {1} cal/mol*K'.format(T, delCp/4.184)"
   ]
  },
  {
   "cell_type": "code",
   "execution_count": 3,
   "metadata": {
    "collapsed": false
   },
   "outputs": [],
   "source": [
    "# Load the thermo database\n",
    "database = RMGDatabase()\n",
    "database.load(settings['database.directory'], thermoLibraries='none',\\\n",
    "             kineticsFamilies='none', kineticsDepositories='none', reactionLibraries = [])\n",
    "\n",
    "thermoDatabase = database.thermo"
   ]
  },
  {
   "cell_type": "code",
   "execution_count": 4,
   "metadata": {
    "collapsed": false
   },
   "outputs": [
    {
     "name": "stdout",
     "output_type": "stream",
     "text": [
      "H298 = 12.74 kcal/mol\n",
      "S298 = 56.7082039346 cal/mol*K\n"
     ]
    }
   ],
   "source": [
    "spec1 = Species().fromSMILES('C1CC1')\n",
    "spec1.generateResonanceIsomers()\n",
    "spec1_thermo = thermoDatabase.getThermoDataFromGroups(spec1)\n",
    "displayThermo(spec1_thermo)"
   ]
  },
  {
   "cell_type": "markdown",
   "metadata": {},
   "source": [
    "## Species 1\n",
    "A species with two rings, one aromatic, one not.  It should distinct ring corrections for each ring."
   ]
  },
  {
   "cell_type": "code",
   "execution_count": 5,
   "metadata": {
    "collapsed": false
   },
   "outputs": [
    {
     "data": {
      "image/png": "[encoded data removed]",
      "text/plain": [
       "Species(label=\"\", molecule=[Molecule(SMILES=\"CCCCCCCCCCCC(CC=C1C=CC=CC1)C1C=CC=CC=1\"), Molecule(SMILES=\"CCCCCCCCCCCC(CC=C1C=CC=CC1)c1ccccc1\")])"
      ]
     },
     "execution_count": 5,
     "metadata": {},
     "output_type": "execute_result"
    }
   ],
   "source": [
    "spec1 = Species().fromSMILES('CCCCCCCCCCCC(CC=C1C=CC=CC1)c1ccccc1')\n",
    "spec1.generateResonanceIsomers()\n",
    "spec1"
   ]
  },
  {
   "cell_type": "code",
   "execution_count": 6,
   "metadata": {
    "collapsed": false
   },
   "outputs": [
    {
     "name": "stdout",
     "output_type": "stream",
     "text": [
      "H298 = -5.9 kcal/mol\n",
      "S298 = 229.011830518 cal/mol*K\n",
      "\n",
      "Thermo group additivity estimation: group(Cs-CbCsCsH) + other(R) + group(Cs-CsCsHH) + other(R) + group(Cs-CsCsHH) + other(R) + group(Cs-CsCsHH) + other(R) + group(Cs-CsCsHH) + other(R) + group(Cs-CsCsHH) + other(R) + group(Cs-CsCsHH) + other(R) + group(Cs-CsCsHH) + other(R) + group(Cs-CsCsHH) + other(R) + group(Cs-CsCsHH) + other(R) + group(Cs-CsCsHH) + other(R) + group(Cs-(Cds-Cds)CsHH) + other(R) + group(Cs-(Cds-Cds)(Cds-Cds)HH) + other(R) + group(Cs-CsHHH) + other(R) + group(Cb-Cs) + other(R) + group(Cds-Cds(Cds-Cds)Cs) + other(R) + group(Cds-CdsCsH) + other(R) + group(Cds-CdsCsH) + other(R) + group(Cds-Cds(Cds-Cds)H) + other(R) + group(Cb-H) + other(R) + group(Cb-H) + other(R) + group(Cds-Cds(Cds-Cds)H) + other(R) + group(Cds-Cds(Cds-Cds)H) + other(R) + group(Cb-H) + other(R) + group(Cb-H) + other(R) + group(Cb-H) + other(R) + ring(Benzene) + ring(13cyclohexadiene5methylene)\n"
     ]
    }
   ],
   "source": [
    "spec1_thermo = thermoDatabase.estimateThermoViaGroupAdditivity(spec1.molecule[1])\n",
    "displayThermo(spec1_thermo)\n",
    "print ''\n",
    "print spec1_thermo.comment"
   ]
  },
  {
   "cell_type": "markdown",
   "metadata": {},
   "source": [
    "we only need one ring correction (`ring(13cyclohexadiene5methylene)`), but RMG gives two. This is caused by the code block below:\n",
    "```python\n",
    "def computeGroupAdditivityThermo(self, molecule):\n",
    "....\n",
    "    rings = molecule.getSmallestSetOfSmallestRings()\n",
    "    for ring in rings:\n",
    "        # Make a temporary structure containing only the atoms in the ring\n",
    "        # NB. if any of the ring corrections depend on ligands not in the ring, they will not be found!\n",
    "        try:\n",
    "            self.__addGroupThermoData(thermoData, self.groups['ring'], molecule, {})\n",
    "        except KeyError:\n",
    "            logging.error(\"Couldn't find in ring database:\")\n",
    "            logging.error(ring)\n",
    "            logging.error(ring.toAdjacencyList())\n",
    "            raise\n",
    "```"
   ]
  },
  {
   "cell_type": "markdown",
   "metadata": {},
   "source": [
    "### After the new commit"
   ]
  },
  {
   "cell_type": "code",
   "execution_count": 7,
   "metadata": {
    "collapsed": false
   },
   "outputs": [
    {
     "name": "stdout",
     "output_type": "stream",
     "text": [
      "H298 = -5.9 kcal/mol\n",
      "S298 = 229.011830518 cal/mol*K\n",
      "\n",
      "Thermo group additivity estimation: group(Cs-CbCsCsH) + other(R) + group(Cs-CsCsHH) + other(R) + group(Cs-CsCsHH) + other(R) + group(Cs-CsCsHH) + other(R) + group(Cs-CsCsHH) + other(R) + group(Cs-CsCsHH) + other(R) + group(Cs-CsCsHH) + other(R) + group(Cs-CsCsHH) + other(R) + group(Cs-CsCsHH) + other(R) + group(Cs-CsCsHH) + other(R) + group(Cs-CsCsHH) + other(R) + group(Cs-(Cds-Cds)CsHH) + other(R) + group(Cs-(Cds-Cds)(Cds-Cds)HH) + other(R) + group(Cs-CsHHH) + other(R) + group(Cb-Cs) + other(R) + group(Cds-Cds(Cds-Cds)Cs) + other(R) + group(Cds-CdsCsH) + other(R) + group(Cds-CdsCsH) + other(R) + group(Cds-Cds(Cds-Cds)H) + other(R) + group(Cb-H) + other(R) + group(Cb-H) + other(R) + group(Cds-Cds(Cds-Cds)H) + other(R) + group(Cds-Cds(Cds-Cds)H) + other(R) + group(Cb-H) + other(R) + group(Cb-H) + other(R) + group(Cb-H) + other(R) + ring(Benzene) + ring(13cyclohexadiene5methylene)\n"
     ]
    }
   ],
   "source": [
    "spec1_thermo = thermoDatabase.estimateThermoViaGroupAdditivity(spec1.molecule[1])\n",
    "displayThermo(spec1_thermo)\n",
    "print ''\n",
    "print spec1_thermo.comment"
   ]
  },
  {
   "cell_type": "code",
   "execution_count": 8,
   "metadata": {
    "collapsed": false
   },
   "outputs": [
    {
     "data": {
      "image/png": "[encoded data removed]",
      "text/plain": [
       "Species(label=\"\", molecule=[Molecule(SMILES=\"C(CCC1C2CCC1CC2)CC1CCC1\")])"
      ]
     },
     "metadata": {},
     "output_type": "display_data"
    },
    {
     "name": "stdout",
     "output_type": "stream",
     "text": [
      "H298 = -19.49 kcal/mol\n",
      "S298 = 138.61 cal/mol*K\n",
      "\n",
      "Thermo group additivity estimation: group(Cs-CsCsCsH) + other(R) + group(Cs-CsCsCsH) + other(R) + group(Cs-CsCsCsH) + other(R) + group(Cs-CsCsCsH) + other(R) + group(Cs-CsCsHH) + other(R) + group(Cs-CsCsHH) + other(R) + group(Cs-CsCsHH) + other(R) + group(Cs-CsCsHH) + other(R) + group(Cs-CsCsHH) + other(R) + group(Cs-CsCsHH) + other(R) + group(Cs-CsCsHH) + other(R) + group(Cs-CsCsHH) + other(R) + group(Cs-CsCsHH) + other(R) + group(Cs-CsCsHH) + other(R) + group(Cs-CsCsHH) + other(R) + ring(Cyclobutane) + polycyclic(norbornane)\n"
     ]
    }
   ],
   "source": [
    "# Species 2\n",
    "# Test a species with a polycyclic and a cyclic ring inside it.\n",
    "spec2 = Species().fromSMILES('C(CCC1C2CCC1CC2)CC1CCC1')\n",
    "display(spec2)\n",
    "spec2.generateResonanceIsomers()\n",
    "spec2_thermo = thermoDatabase.getThermoDataFromGroups(spec2)\n",
    "displayThermo(spec2_thermo)\n",
    "print ''\n",
    "print spec2_thermo.comment"
   ]
  },
  {
   "cell_type": "code",
   "execution_count": 9,
   "metadata": {
    "collapsed": false
   },
   "outputs": [
    {
     "name": "stdout",
     "output_type": "stream",
     "text": [
      "[Molecule(SMILES=\"C1=CC=CC=C1\"), Molecule(SMILES=\"c1ccccc1\")]\n"
     ]
    },
    {
     "data": {
      "image/png": "[encoded data removed]",
      "text/plain": [
       "Molecule(SMILES=\"C1=CC=CC=C1\")"
      ]
     },
     "metadata": {},
     "output_type": "display_data"
    },
    {
     "name": "stdout",
     "output_type": "stream",
     "text": [
      "H298 = 40.76 kcal/mol\n",
      "S298 = 56.4077 cal/mol*K\n",
      "Thermo group additivity estimation: group(Cds-Cds(Cds-Cds)H) + other(R) + group(Cds-Cds(Cds-Cds)H) + other(R) + group(Cds-Cds(Cds-Cds)H) + other(R) + group(Cds-Cds(Cds-Cds)H) + other(R) + group(Cds-Cds(Cds-Cds)H) + other(R) + group(Cds-Cds(Cds-Cds)H) + other(R) + ring(Cyclohexane)\n"
     ]
    },
    {
     "data": {
      "image/png": "[encoded data removed]",
      "text/plain": [
       "Molecule(SMILES=\"c1ccccc1\")"
      ]
     },
     "metadata": {},
     "output_type": "display_data"
    },
    {
     "name": "stdout",
     "output_type": "stream",
     "text": [
      "H298 = 19.8 kcal/mol\n",
      "S298 = 69.18 cal/mol*K\n",
      "Thermo group additivity estimation: group(Cb-H) + other(R) + group(Cb-H) + other(R) + group(Cb-H) + other(R) + group(Cb-H) + other(R) + group(Cb-H) + other(R) + group(Cb-H) + other(R) + ring(Benzene)\n",
      "H298 = 19.8 kcal/mol\n",
      "S298 = 64.2419773513 cal/mol*K\n",
      "final\n",
      "[Molecule(SMILES=\"c1ccccc1\"), Molecule(SMILES=\"C1=CC=CC=C1\")]\n",
      "\n",
      "Thermo group additivity estimation: group(Cb-H) + other(R) + group(Cb-H) + other(R) + group(Cb-H) + other(R) + group(Cb-H) + other(R) + group(Cb-H) + other(R) + group(Cb-H) + other(R) + ring(Benzene)\n"
     ]
    }
   ],
   "source": [
    "# Species 3\n",
    "# Benzene\n",
    "spec3 = Species().fromSMILES('c1ccccc1')\n",
    "spec3.generateResonanceIsomers()\n",
    "print spec3.molecule\n",
    "for molecule in spec3.molecule:\n",
    "    display(molecule)\n",
    "    thermo = thermoDatabase.computeGroupAdditivityThermo(molecule)\n",
    "    displayThermo(thermo)\n",
    "    print thermo.comment\n",
    "spec3_thermo = thermoDatabase.getThermoDataFromGroups(spec3)\n",
    "displayThermo(spec3_thermo)\n",
    "print 'final'\n",
    "print spec3.molecule\n",
    "print ''\n",
    "print spec3_thermo.comment"
   ]
  },
  {
   "cell_type": "code",
   "execution_count": 24,
   "metadata": {
    "collapsed": false
   },
   "outputs": [
    {
     "data": {
      "image/png": "[encoded data removed]",
      "text/plain": [
       "Molecule(SMILES=\"C1=C[C]2CCC=C2C1\")"
      ]
     },
     "metadata": {},
     "output_type": "display_data"
    },
    {
     "name": "stdout",
     "output_type": "stream",
     "text": [
      "H298 = 79.627 kcal/mol\n",
      "S298 = 84.48 cal/mol*K\n",
      "Thermo group additivity estimation: group(Cs-(Cds-Cds)(Cds-Cds)CsH) + other(R) + group(Cs-CsCsHH) + other(R) + group(Cs-(Cds-Cds)CsHH) + other(R) + group(Cs-(Cds-Cds)(Cds-Cds)HH) + other(R) + group(Cds-CdsCsCs) + other(R) + group(Cds-CdsCsH) + other(R) + group(Cds-CdsCsH) + other(R) + group(Cds-CdsCsH) + other(R) + polycyclic(C12CCC=C1CC=C2) + radical(Tertalkyl)\n"
     ]
    },
    {
     "data": {
      "image/png": "[encoded data removed]",
      "text/plain": [
       "Molecule(SMILES=\"[CH]1C=C2CCC=C2C1\")"
      ]
     },
     "metadata": {},
     "output_type": "display_data"
    },
    {
     "name": "stdout",
     "output_type": "stream",
     "text": [
      "H298 = 46.097 kcal/mol\n",
      "S298 = 22.13 cal/mol*K\n",
      "Thermo group additivity estimation: group(Cs-(Cds-Cds)CsHH) + other(R) + group(Cs-(Cds-Cds)CsHH) + other(R) + group(Cs-(Cds-Cds)CsHH) + other(R) + group(Cs-(Cds-Cds)CsHH) + other(R) + group(Cds-Cds(Cds-Cds)Cs) + other(R) + group(Cds-Cds(Cds-Cds)Cs) + other(R) + group(Cds-CdsCsH) + other(R) + group(Cds-CdsCsH) + other(R) + polycyclic(PolycyclicRing) + radical(cyclopentene-allyl)\n"
     ]
    },
    {
     "data": {
      "image/png": "[encoded data removed]",
      "text/plain": [
       "Molecule(SMILES=\"[CH]1CCC2C=CCC=21\")"
      ]
     },
     "metadata": {},
     "output_type": "display_data"
    },
    {
     "name": "stdout",
     "output_type": "stream",
     "text": [
      "H298 = 46.047 kcal/mol\n",
      "S298 = 22.46 cal/mol*K\n",
      "Thermo group additivity estimation: group(Cs-CsCsHH) + other(R) + group(Cs-(Cds-Cds)CsHH) + other(R) + group(Cs-(Cds-Cds)CsHH) + other(R) + group(Cs-(Cds-Cds)(Cds-Cds)HH) + other(R) + group(Cds-CdsCsCs) + other(R) + group(Cds-Cds(Cds-Cds)Cs) + other(R) + group(Cds-CdsCsH) + other(R) + group(Cds-Cds(Cds-Cds)H) + other(R) + polycyclic(PolycyclicRing) + radical(cyclopentene-allyl)\n",
      "H298 = 79.627 kcal/mol\n",
      "S298 = 84.48 cal/mol*K\n",
      "final\n",
      "[Molecule(SMILES=\"C1=C[C]2CCC=C2C1\"), Molecule(SMILES=\"[CH]1CCC2C=CCC=21\"), Molecule(SMILES=\"[CH]1C=C2CCC=C2C1\")]\n",
      "\n",
      "Thermo group additivity estimation: group(Cs-(Cds-Cds)(Cds-Cds)CsH) + other(R) + group(Cs-CsCsHH) + other(R) + group(Cs-(Cds-Cds)CsHH) + other(R) + group(Cs-(Cds-Cds)(Cds-Cds)HH) + other(R) + group(Cds-CdsCsCs) + other(R) + group(Cds-CdsCsH) + other(R) + group(Cds-CdsCsH) + other(R) + group(Cds-CdsCsH) + other(R) + polycyclic(C12CCC=C1CC=C2) + radical(Tertalkyl)\n"
     ]
    }
   ],
   "source": [
    "spec = Species().fromSMILES('C1=C[C]2CCC=C2C1')\n",
    "spec.generateResonanceIsomers()\n",
    "for molecule in spec.molecule:\n",
    "    display(molecule)\n",
    "    thermo = thermoDatabase.estimateRadicalThermoViaHBI(molecule, thermoDatabase.computeGroupAdditivityThermo)\n",
    "    displayThermo(thermo)\n",
    "    print thermo.comment\n",
    "spec_thermo = thermoDatabase.getThermoDataFromGroups(spec)\n",
    "displayThermo(spec_thermo)\n",
    "print 'final'\n",
    "print spec.molecule\n",
    "print ''\n",
    "print spec_thermo.comment"
   ]
  },
  {
   "cell_type": "code",
   "execution_count": 10,
   "metadata": {
    "collapsed": false
   },
   "outputs": [
    {
     "name": "stdout",
     "output_type": "stream",
     "text": [
      "[1 0]\n",
      "[0 1]\n"
     ]
    }
   ],
   "source": [
    "import numpy\n",
    "array = numpy.array([3.0,2.0])\n",
    "b = array.argsort()\n",
    "print b\n",
    "print b[::-1]"
   ]
  },
  {
   "cell_type": "markdown",
   "metadata": {},
   "source": [
    "## Test the groups within the ring corrections"
   ]
  },
  {
   "cell_type": "code",
   "execution_count": 11,
   "metadata": {
    "collapsed": false
   },
   "outputs": [],
   "source": [
    "ringGroupEntries = thermoDatabase.groups['ring'].entries.values()"
   ]
  },
  {
   "cell_type": "code",
   "execution_count": 12,
   "metadata": {
    "collapsed": false
   },
   "outputs": [
    {
     "data": {
      "text/plain": [
       "[[<GroupAtom ['Cs']>, <GroupAtom ['Cs']>, <GroupAtom ['Cs']>]]"
      ]
     },
     "execution_count": 12,
     "metadata": {},
     "output_type": "execute_result"
    }
   ],
   "source": [
    "# Clear the labeled atoms and run isomorphism check for duplicates\n",
    "\n",
    "for i in range(len(ringGroupEntries)):\n",
    "    for j in range(i+1,len(ringGroupEntries)):\n",
    "        if thermoDatabase.groups['ring'].matchNodeToNode(ringGroupEntries[i],ringGroupEntries[j]):\n",
    "            print 'Group {0} is isomorphic to group {1}'.format(ringGroupEntries[i].label,ringGroupEntries[j].label)\n",
    "\n",
    "ringGroupEntries[4].item.getSmallestSetOfSmallestRings()"
   ]
  },
  {
   "cell_type": "code",
   "execution_count": 13,
   "metadata": {
    "collapsed": false
   },
   "outputs": [],
   "source": [
    "# for entry in ringGroupEntries:\n",
    "#     group = entry.item\n",
    "#     monorings, polyrings = group.getDisparateRings()\n",
    "#     # There should be no polyrings\n",
    "#     assert len(polyrings) == 0\n",
    "#     # There should be 1 or 0 monorings present\n",
    "#     assert len(monorings) <= 1\n",
    "    \n",
    "#     if monorings:\n",
    "#         entry.item.clearLabeledAtoms()\n",
    "#         for atom in monorings[0]:\n",
    "#             atom.label = '*'\n",
    "#     print group.toAdjacencyList()\n",
    "#     print group.getLabeledAtoms()\n",
    "# thermoDatabase.groups['ring'].save('newRing.py')"
   ]
  }
 ],
 "metadata": {
  "kernelspec": {
   "display_name": "Python 2",
   "language": "python",
   "name": "python2"
  },
  "language_info": {
   "codemirror_mode": {
    "name": "ipython",
    "version": 2
   },
   "file_extension": ".py",
   "mimetype": "text/x-python",
   "name": "python",
   "nbconvert_exporter": "python",
   "pygments_lexer": "ipython2",
   "version": "2.7.11"
  }
 },
 "nbformat": 4,
 "nbformat_minor": 0
}
